{
  "nbformat": 4,
  "nbformat_minor": 0,
  "metadata": {
    "colab": {
      "provenance": [],
      "authorship_tag": "ABX9TyOALIDHiSkdYGv4Yq6E+llL"
    },
    "kernelspec": {
      "name": "python3",
      "display_name": "Python 3"
    },
    "language_info": {
      "name": "python"
    }
  },
  "cells": [
    {
      "cell_type": "code",
      "execution_count": 1,
      "metadata": {
        "colab": {
          "base_uri": "https://localhost:8080/"
        },
        "id": "-WO3VEpcMHMJ",
        "outputId": "085bb708-4ed9-4125-f92b-91f30a0885d9"
      },
      "outputs": [
        {
          "output_type": "stream",
          "name": "stdout",
          "text": [
            "Collecting faker\n",
            "  Downloading Faker-19.3.1-py3-none-any.whl (1.7 MB)\n",
            "\u001b[2K     \u001b[90m━━━━━━━━━━━━━━━━━━━━━━━━━━━━━━━━━━━━━━━━\u001b[0m \u001b[32m1.7/1.7 MB\u001b[0m \u001b[31m9.6 MB/s\u001b[0m eta \u001b[36m0:00:00\u001b[0m\n",
            "\u001b[?25hRequirement already satisfied: python-dateutil>=2.4 in /usr/local/lib/python3.10/dist-packages (from faker) (2.8.2)\n",
            "Requirement already satisfied: six>=1.5 in /usr/local/lib/python3.10/dist-packages (from python-dateutil>=2.4->faker) (1.16.0)\n",
            "Installing collected packages: faker\n",
            "Successfully installed faker-19.3.1\n"
          ]
        }
      ],
      "source": [
        "pip install faker"
      ]
    },
    {
      "cell_type": "code",
      "source": [
        "from faker import Faker\n",
        "fake=Faker()\n",
        "print(fake.name())\n",
        "print(fake.address())\n",
        "print(fake.country())\n",
        "print(fake.email())\n",
        "print(fake.latitude(),fake.longitude)\n",
        "print(fake.url())"
      ],
      "metadata": {
        "colab": {
          "base_uri": "https://localhost:8080/"
        },
        "id": "_Hq2dOvpMZKW",
        "outputId": "3c27a0c9-cd98-40a9-9a61-21f97c043b65"
      },
      "execution_count": 2,
      "outputs": [
        {
          "output_type": "stream",
          "name": "stdout",
          "text": [
            "Sandra Ibarra\n",
            "107 Wood Estates\n",
            "Lake Michael, VA 60363\n",
            "Honduras\n",
            "smiththeresa@example.org\n",
            "44.8177605 <bound method Provider.longitude of <faker.providers.geo.en_US.Provider object at 0x7f61b646c550>>\n",
            "http://www.swanson-matthews.com/\n"
          ]
        }
      ]
    }
  ]
}