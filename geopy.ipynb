{
  "nbformat": 4,
  "nbformat_minor": 0,
  "metadata": {
    "colab": {
      "provenance": [],
      "authorship_tag": "ABX9TyNVXNN1+GpRp+bYp8j5zVnu"
    },
    "kernelspec": {
      "name": "python3",
      "display_name": "Python 3"
    },
    "language_info": {
      "name": "python"
    }
  },
  "cells": [
    {
      "cell_type": "code",
      "source": [
        "pip install geopy"
      ],
      "metadata": {
        "colab": {
          "base_uri": "https://localhost:8080/"
        },
        "id": "0tWuOwNvl0ck",
        "outputId": "0bfd9129-0f4f-4802-84e5-89af4aaf73eb"
      },
      "execution_count": 1,
      "outputs": [
        {
          "output_type": "stream",
          "name": "stdout",
          "text": [
            "Requirement already satisfied: geopy in /usr/local/lib/python3.10/dist-packages (2.3.0)\n",
            "Requirement already satisfied: geographiclib<3,>=1.52 in /usr/local/lib/python3.10/dist-packages (from geopy) (2.0)\n"
          ]
        }
      ]
    },
    {
      "cell_type": "code",
      "execution_count": 6,
      "metadata": {
        "colab": {
          "base_uri": "https://localhost:8080/"
        },
        "id": "k6fTvF7Ok7O2",
        "outputId": "436743c6-1ad2-481a-d876-21b57a9b2ac2"
      },
      "outputs": [
        {
          "output_type": "stream",
          "name": "stdout",
          "text": [
            "Enter City name: Chennai\n",
            "Chennai, 600001, Tamil Nadu, India\n"
          ]
        }
      ],
      "source": [
        "from geopy.geocoders import Photon\n",
        "\n",
        "geolocator=Photon(user_agent=\"geoapiExercises\")\n",
        "\n",
        "place=input(\"Enter City name: \")\n",
        "\n",
        "location = geolocator.geocode(place)\n",
        "\n",
        "print(location)\n"
      ]
    }
  ]
}